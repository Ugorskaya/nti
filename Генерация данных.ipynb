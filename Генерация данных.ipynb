{
 "cells": [
  {
   "cell_type": "code",
   "execution_count": 29,
   "metadata": {},
   "outputs": [],
   "source": [
    "import random\n",
    "import os"
   ]
  },
  {
   "cell_type": "code",
   "execution_count": 93,
   "metadata": {},
   "outputs": [],
   "source": [
    "# , \"Муниципальное заведение\"\n",
    "categories = ['Парк', 'Набережная', 'Кафе', 'Развлекательный центр', 'Достопримечательность','Культура']\n",
    "locations = {'Парк':['Динамо', \"Комсомольский\", \"ЦПКиО\", \"им. Горького\", \"Дендрарий\", \"Победы\", \"Византийский сад\", \"Райский сад\", \"Вишневый сад\"], \n",
    "             'Набережная': [\"Масалитинова\", \"Макарова\", \"Нижняя\", \"Верхняя\", \"Постышева\", \"Морская\", \"Черепаховая\", \"Куликовская\"], \n",
    "             'Кафе':['Рататуй', \"Имбирь\", \"Ичираку рамен\", \"Виктория\", \"Вкус Детства\", \"Имбирь\", \"Жадина Говядина\", \"Байкал\", \"Сибирь\", \"Токио\",\"Крастикраб\", \"Маленькая Италия\", \"Океан\"], \n",
    "             'Развлекательный центр':[\"Карусель\", \"Боулинг\", \"Микс\", \"Мир\", \"Твикс\", \"Остров пиратов\", \"Карибы\", \"Молл\"],\n",
    "             'Достопримечательность':['Памятник Мстителям', \"Арка искусств\", \"Мемориал пожарным\", \"Скульптура фонарщика\", \"Памятник великой черепахе\", \"Стена хокаге\", \"Дворец принцессы\", 'Домики Шира', \"Граффити СоюзМультфильм\", \"Кошкин дом\", \"Тролли\"],\n",
    "             'Культура':[\"Музей сладостей\", \"Театр аниме\", \"Кинотеатр Максима\", \"Драмтеатр\", \"КинотеатрМолл\", \"Музей черепах\", \"Музей истории\", \"Галлерея кинематографии\", \"Галерея Детроит\", \"Музей чипсов\", \"Музей Мстителей\", \"Театр Картинки кино\", \"Галерея\"]\n",
    "            }"
   ]
  },
  {
   "cell_type": "code",
   "execution_count": 100,
   "metadata": {},
   "outputs": [],
   "source": [
    "def generate_density(cat, district, problem):\n",
    "    week = ['Понедельник', \"Вторник\", \"Среда\",\"Четверг\", \"Пятница\", \"Суббота\", \"Воскресенье\"]\n",
    "    density = '<div class=\"chart\">\\n\\\n",
    "        <b>Посещаемость:</b>\\n'\n",
    "    avg_density=70\n",
    "    \n",
    "    models = [True,False]\n",
    "    model = models[random.randint(0,1)]\n",
    "    like = random.randint(40, 100)\n",
    "    \n",
    "    if district == 1 and cat == 'Развлекательный центр' and not problem:\n",
    "        model = False\n",
    "        avg_density=15\n",
    "        problem=True\n",
    "        like = random.randint(10, 25)\n",
    "        \n",
    "    if district == 2 and cat == 'Парк' and not problem:\n",
    "        avg_density=20\n",
    "        problem=True\n",
    "        like = random.randint(10, 25)\n",
    "    \n",
    "    if district == 3:\n",
    "        like = random.randint(10, 100)\n",
    "        avg_density=like\n",
    "        \n",
    "    for w in week[:-2]:\n",
    "        if model:\n",
    "            #в будни больше\n",
    "            d = random.randint(int(avg_density/2),avg_density)\n",
    "            d2 = random.randint(int(avg_density/4),int(avg_density/2))\n",
    "        else:\n",
    "            #в выходные больше\n",
    "            d = random.randint(int(avg_density/4),int(avg_density/2))\n",
    "            d2 = random.randint(int(avg_density/2),avg_density)\n",
    "            \n",
    "        density+='<div><div class=\"line\">'+w+'</div>\\n\\\n",
    "            <div class=\"pipe line\">\\n\\\n",
    "            <div style=\"width: '+str(d)+'%\"> </div>\\n\\\n",
    "            </div></div>\\n'\n",
    "        \n",
    "    for w in week[-2:]:\n",
    "        density+='<div><div class=\"line\">'+w+'</div>\\n\\\n",
    "            <div class=\"pipe line\">\\n\\\n",
    "            <div style=\"width: '+str(d2)+'%\"> </div>\\n\\\n",
    "            </div></div>\\n'   \n",
    "        \n",
    "    return density+'</div>\\n', problem, like"
   ]
  },
  {
   "cell_type": "code",
   "execution_count": 95,
   "metadata": {},
   "outputs": [],
   "source": [
    "def get_negative(category):\n",
    "    return 'Очень плохо'\n",
    "\n",
    "def get_positive(category):\n",
    "    return 'Люблю это место, все понравилось. '+ category+ ' супер!'\n",
    "\n",
    "def generate_reviews(like, category):\n",
    "    reviews = '<div class=\"comments\">\\n\\\n",
    "    <b>Комментарии:</b>\\n\\\n",
    "    <ul class=\"media-list\">\\n'\n",
    "    \n",
    "    if like>60:\n",
    "        start = 3\n",
    "    else:\n",
    "        start = 1\n",
    "    \n",
    "    for i in range(0,3):\n",
    "        \n",
    "        rating = random.randint(start,5)\n",
    "        month = ['января', \"февраля\", \"марта\", \"апреля\", \"мая\", \"июня\", \"июля\", \"августа\", \"сентября\", \"октября\", \"ноября\", \"декабря\"]\n",
    "        date = str(random.randint(1,28))+' '+month[random.randint(0,11)]+' '+str(random.randint(2017, 2020))+', '+str(random.randint(10,23))+':'+str(random.randint(10,59))\n",
    "\n",
    "        if rating<3:\n",
    "            review = get_negative(category)\n",
    "        else:\n",
    "            review = get_positive(category)\n",
    "            \n",
    "        reviews+='<li class=\"media\">\\n\\\n",
    "            <div class=\"media-body\">\\n\\\n",
    "                <div class=\"media-heading\">\\n\\\n",
    "                    <div class=\"author\"><span class=\"rating\">'+str(rating)+'</span><span>⭐</span><span class=\"devide\">|</span></div>\\n\\\n",
    "                    <div class=\"metadata\">\\n\\\n",
    "                        <span class=\"date\">'+date+'</span>\\n\\\n",
    "                    </div>\\n\\\n",
    "                </div>\\n\\\n",
    "                <p class=\"review\">'+review+'</p>\\n\\\n",
    "            </div>\\n\\\n",
    "        </li>\\n'\n",
    "    return reviews+'</ul></div>\\n'"
   ]
  },
  {
   "cell_type": "code",
   "execution_count": 96,
   "metadata": {},
   "outputs": [],
   "source": [
    "with open('site/tiles/data.pickle', 'rb') as f:\n",
    "    places = pickle.load(f)"
   ]
  },
  {
   "cell_type": "code",
   "execution_count": 106,
   "metadata": {},
   "outputs": [],
   "source": [
    "use_sight = []\n",
    "close='</div>'\n",
    "problem = [False, False, False]\n",
    "for s in range(1,4): \n",
    "    html = '<!DOCTYPE html>\\n\\\n",
    "    <html>\\n\\\n",
    "    <head>\\n\\\n",
    "    <title>Места района города Энск</title>\\n\\\n",
    "    <meta charset=\"utf-8\"/>\\n\\\n",
    "    <meta name=\"description\" content=\"\">\\n\\\n",
    "    <meta name=\"viewport\" content=\"width=device-width\">\\n\\\n",
    "    <link href=\"../css/bootstrap.css\" rel=\"stylesheet\"/>\\n\\\n",
    "    <link href=\"../css/templatemo-misc.css\" rel=\"stylesheet\"/>\\n\\\n",
    "    <link href=\"../css/templatemo-style.css\" rel=\"stylesheet\"/>\\n\\\n",
    "    <link href=\"http://fonts.googleapis.com/css?family=Roboto+Slab:400,700,300,100\" rel=\"stylesheet\"/>\\n\\\n",
    "    <link href=\"http://fonts.googleapis.com/css?family=Roboto:400,400italic,300italic,300,500,500italic,700,900\" rel=\"stylesheet\"/>\\n\\\n",
    "    <link rel=\"stylesheet\" href=\"../css/font-awesome.css\">\\n\\\n",
    "    <link rel=\"stylesheet\" href=\"../css/animate.css\">\\n\\\n",
    "    <script src=\"../js/vendor/modernizr-2.6.1-respond-1.1.0.min.js\"></script>\\n\\\n",
    "    </head>\\n\\\n",
    "    <body>\\n\\\n",
    "    <div class=\"content-wrapper\">\\n\\\n",
    "    <div class=\"inner-container container\">\\n\\\n",
    "        <div class=\"row\">\\n\\\n",
    "            <div class=\"section-header col-md-12\">\\n\\\n",
    "                <h2>Дистрикт №'+str(s)+'</h2>\\n\\\n",
    "                <span>район города N</span>\\n\\\n",
    "            </div>\\n\\\n",
    "        </div>\\n\\\n",
    "        <div class=\"project-detail row\">\\n\\\n",
    "            <div class=\"project-slider col-md-12\">\\n\\\n",
    "                <img src=\"greens/green'+str(s)+'.jpg\" alt=\"Фото с квадрокоптера\">\\n\\\n",
    "                <img src=\"maps/map'+str(s)+'.jpg\" alt=\"Карта района\">\\n\\\n",
    "                <a href=\"#\" class=\"slidesjs-previous slidesjs-navigation\">&lt;</a> \\n\\\n",
    "                <a href=\"#\" class=\"slidesjs-next slidesjs-navigation\">&gt;</a>\\n\\\n",
    "            </div>\\n\\\n",
    "            <div class=\"project-infos col-md-12\">\\n\\\n",
    "                <div class=\"box-content\">\\n\\\n",
    "                    <h2 class=\"project-title\">Обращение мэра Дистрикта №'+str(s)+'</h2>\\n\\\n",
    "                    <p><a href=\"http://www.templatemo.com/preview/templatemo_423_artcore\">Artcore</a> is free HTML5 bootstrap template by <b class=\"blue\">template</b><b class=\"green\">mo</b>. Credit goes to <a rel=\"nofollow\" href=\"http://unsplash.com\">Unsplash</a> for images used in this template. You can use this layout for your personal or commercial websites. Neque, quam, cum ut sapiente veniam ullam aspernatur modi repellat fugit quisquam maxime distinctio architecto aut suscipit recusandae nemo iusto inventore sunt amet nesciunt atque accusamus voluptatem molestias natus blanditiis. <br><br>Quos, atque, maxime, voluptates, voluptas praesentium qui quibusdam neque explicabo itaque harum voluptate aliquam dolore corporis quasi eaque laboriosam aspernatur. Repellat, animi, dolore harum laborum dicta fugit optio magni totam consectetur est vitae libero facere saepe cupiditate numquam dignissimos pariatur iusto temporibus delectus enim illo.</p>\\n\\\n",
    "                    <ul class=\"project-meta\">\\n\\\n",
    "                        <li><i class=\"fa fa-folder-open\"></i>Мэр района Дистрикт '+str(s)+'</li>\\n\\\n",
    "                        <li><i class=\"fa fa-calendar-o\"></i>15 Ноября 2020</li>\\n\\\n",
    "                    </ul>'+close*5+\"<script src='../js/vendor/jquery-1.11.0.min.js'></script>\\n\\\n",
    "        <script>window.jQuery || document.write('<script src='../js/vendor/jquery-1.11.0.min.js'><\\/script>')</script>\\n\\\n",
    "        <script src='../js/plugins.js'></script>\\n\\\n",
    "        <script src='../js/main.js'></script>\\n\"\n",
    "\n",
    "   \n",
    "\n",
    "    use_coords = []  \n",
    "    use_locs = []\n",
    "    use_photos = []\n",
    "    use_cats = {\n",
    "        'Парк':0, \n",
    "        'Набережная':0, \n",
    "        'Кафе':0, \n",
    "        'Развлекательный центр':0, \n",
    "        'Достопримечательность':0,\n",
    "        'Культура':0\n",
    "    }\n",
    "    \n",
    "    for i in range(1, 16):\n",
    "\n",
    "        cat = categories[random.randint(0,len(categories)-1)] \n",
    "        \n",
    "        if sum(use_cats.values()) == 14 and s==2 and not problem[s-1]:\n",
    "            cat = 'Парк'\n",
    "        elif sum(use_cats.values()) == 14 and s==1 and not problem[s-1]:\n",
    "            cat = 'Развлекательный центр'\n",
    "        else:\n",
    "            cat_temp = cat\n",
    "\n",
    "            if cat!= 'Набережная' and cat!= 'Парк':\n",
    "                cat_temp= 'Другое'\n",
    "\n",
    "            while len(places['map'+str(s)][cat_temp])== use_cats[cat]:\n",
    "                cat = categories[random.randint(0,len(categories)-1)] \n",
    "            use_cats[cat]+=1    \n",
    "        \n",
    "        loc = []\n",
    "        if cat == 'Достопримечательность' or cat== 'Культура':\n",
    "            while loc in use_sight or loc ==[]:\n",
    "                loc = locations[cat][random.randint(0, len(locations[cat])-1)]\n",
    "            use_sight.append(loc)\n",
    "        else:\n",
    "            \n",
    "            while loc in use_locs or loc ==[]:\n",
    "                \n",
    "                loc = locations[cat][random.randint(0, len(locations[cat])-1)]\n",
    "            use_locs.append(loc)\n",
    "            \n",
    "        density, problem[s-1], like =generate_density(cat, s, problem[s-1]) \n",
    "\n",
    "        coordinates = []\n",
    "        while coordinates in use_coords or coordinates == []:\n",
    "            if cat== 'Парк' or cat== 'Набережная':\n",
    "                coordinates = places['map'+str(s)][cat][random.randint(0,len(places['map'+str(s)][cat])-1)]\n",
    "            else:\n",
    "                coordinates = places['map'+str(s)]['Другое'][random.randint(0,len(places['map'+str(s)]['Другое'])-1)]\n",
    "            \n",
    "        use_coords.append(coordinates)\n",
    "\n",
    "        photo = []\n",
    "        while photo in use_photos or photo == []:\n",
    "            if os.path.exists('site/images/'+cat+'/'+loc+'.jpg'):\n",
    "                photo = loc\n",
    "            else:\n",
    "                files = []\n",
    "                for f in os.listdir('site/images/'+cat+'/'):\n",
    "                    if cat in f:\n",
    "                        files.append(f)\n",
    "                photo = cat+str(random.randint(1,len(files)))\n",
    "        use_photos.append(photo)\n",
    "\n",
    "        html+='<div class=\"col-md-4 project-item mix\">\\n\\\n",
    "            <div class=\"project-thumb\">\\n\\\n",
    "            <img name=\"category\" alt=\"'+cat+'\" src=\"../images/'+cat+'/'+photo+'.jpg\"/>\\n\\\n",
    "            </div>\\\n",
    "            <div class=\"box-content project-detail\">\\n\\\n",
    "            <h2>'+loc+'</h2>\\n\\\n",
    "            <b>Координаты: </b><div class=\"coordinates\"><span name=\"lattitude\">'+str(coordinates[0])+'</span><span>, </span><span name=\"longitude\">'+str(coordinates[1])+'</span></div>\\n\\\n",
    "            <div><span name=\"count_likes\">'+str(like)+'</span><span>❤️</span>'\n",
    "        if cat == 'Кафе':\n",
    "            html+='<span class=\"devide\">|</span><span name=\"bill\">'+str(random.randint(300, 2500))+'</span><span>₽</span>'\n",
    "            \n",
    "        html+='</div>\\n'\n",
    "        html+=generate_reviews(like, cat)\n",
    "        html+=density\n",
    "        html+=close*3\n",
    "\n",
    "    html+='</body>\\n\\\n",
    "    </html>'\n",
    "\n",
    "    f = open('site/final1/district'+str(s)+'.html', 'w', encoding='utf-8')\n",
    "    f.write(html)"
   ]
  },
  {
   "cell_type": "code",
   "execution_count": 105,
   "metadata": {},
   "outputs": [
    {
     "data": {
      "text/plain": [
       "15"
      ]
     },
     "execution_count": 105,
     "metadata": {},
     "output_type": "execute_result"
    }
   ],
   "source": [
    "sum(use_cats.values())"
   ]
  },
  {
   "cell_type": "markdown",
   "metadata": {},
   "source": [
    "**Создание координат**"
   ]
  },
  {
   "cell_type": "code",
   "execution_count": 33,
   "metadata": {},
   "outputs": [],
   "source": [
    "import folium\n",
    "import numpy as np\n",
    "import pickle"
   ]
  },
  {
   "cell_type": "code",
   "execution_count": 2,
   "metadata": {},
   "outputs": [],
   "source": [
    "places = np.load('site/tiles/coordinates1.npy', mmap_mode=None, allow_pickle=True, fix_imports=True, encoding='ASCII')"
   ]
  },
  {
   "cell_type": "code",
   "execution_count": 3,
   "metadata": {},
   "outputs": [],
   "source": [
    "places = places.item()"
   ]
  },
  {
   "cell_type": "code",
   "execution_count": 81,
   "metadata": {},
   "outputs": [],
   "source": [
    "np.save('site/tiles/coordinates1.npy', places)"
   ]
  },
  {
   "cell_type": "code",
   "execution_count": 43,
   "metadata": {
    "scrolled": false
   },
   "outputs": [
    {
     "data": {
      "text/html": [
       "<div style=\"width:100%;\"><div style=\"position:relative;width:100%;height:0;padding-bottom:60%;\"><span style=\"color:#565656\">Make this Notebook Trusted to load map: File -> Trust Notebook</span><iframe src=\"about:blank\" style=\"position:absolute;width:100%;height:100%;left:0;top:0;border:none !important;\" data-html=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 onload=\"this.contentDocument.open();this.contentDocument.write(atob(this.getAttribute('data-html')));this.contentDocument.close();\" allowfullscreen webkitallowfullscreen mozallowfullscreen></iframe></div></div>"
      ],
      "text/plain": [
       "<folium.folium.Map at 0x1fbf16fb100>"
      ]
     },
     "execution_count": 43,
     "metadata": {},
     "output_type": "execute_result"
    }
   ],
   "source": [
    "#создаем карту\n",
    "m = folium.Map([37, 0], zoom_start=1, tiles='') \n",
    "folium.raster_layers.ImageOverlay(\n",
    "    name='Mercator projection SW', # название слоя\n",
    "    image='https://yupest.github.io/nti/site/tiles/map3.jpg', #ссылка на изображение карты\n",
    "    bounds=[[-90, -180], [90, 180]], #обязательный параметр: наложение по координатам, границы слоя\n",
    "    opacity = 1, # прозрачность карты, где 1 - непрозрачно, а 0 - прозрачно, 0.5 - половина прозрачности\n",
    ").add_to(m)\n",
    "folium.LatLngPopup().add_to(m)\n",
    "for lat, lon in zip(lats, longs):\n",
    "  \n",
    "    folium.Marker(\n",
    "        location=[lat, lon], # координаты широты и долготы\n",
    "        icon=folium.Icon()\n",
    "    ).add_to(m)\n",
    "m"
   ]
  },
  {
   "cell_type": "code",
   "execution_count": 42,
   "metadata": {},
   "outputs": [],
   "source": [
    "places['map3']= {\n",
    " 'Набережная':[\n",
    "     [ -67.3399,-101.6016],\n",
    "     [48.9225,41.4844],\n",
    "     [43.0689,-101.9531],\n",
    "     [68.2694,90.0000]\n",
    "    ],\n",
    " 'Парк':[\n",
    "     [-59.1759,-1.4063],\n",
    "     [ -1.4061,-49.9219],\n",
    "     [51.8358,-1.7578],\n",
    "     [-0.3516,2.1094],\n",
    "     [-9.7957,44.6484],\n",
    "     [ 73.7758,-20.2148]\n",
    "     \n",
    " ],\n",
    " 'Другое':[\n",
    "     [7.0137,31.2891],\n",
    "     [21.6166,-27.2461],\n",
    "     [53.8525,29.7070],\n",
    "     [33.7243,-92.1094],\n",
    "     [-24.5271,-106.8750],\n",
    "     [-29.9930,-122.6953],\n",
    "     [-29.5352, -68.3789],\n",
    "     [80.0884,-94.0430],\n",
    "     [-27.6835,-72.0703],\n",
    "     [0.0000,-99.1406],\n",
    "     [-29.5352,-92.4609],\n",
    "     [46.6796,32.1680],\n",
    "     [ 61.1856,-4.0430],\n",
    "     [77.3125,13.3594],\n",
    "     [80.9837,13.3594],\n",
    "     [78.2066,26.0156]\n",
    " ]           \n",
    "}\n",
    "with open('site/tiles/data.pickle', 'wb') as f:\n",
    "     pickle.dump(places, f)"
   ]
  },
  {
   "cell_type": "code",
   "execution_count": 40,
   "metadata": {},
   "outputs": [],
   "source": [
    "l = []\n",
    "for v in places['map3'].values():\n",
    "    l.extend(v)\n",
    "lats = [i[0] for i in l]\n",
    "longs = [i[1] for i in l] "
   ]
  },
  {
   "cell_type": "code",
   "execution_count": 23,
   "metadata": {},
   "outputs": [
    {
     "data": {
      "text/plain": [
       "True"
      ]
     },
     "execution_count": 23,
     "metadata": {},
     "output_type": "execute_result"
    }
   ],
   "source": [
    "coordinates['Культура'][0]==[-46.0732,120.3528]"
   ]
  },
  {
   "cell_type": "markdown",
   "metadata": {},
   "source": [
    "Зеленые насаждения"
   ]
  },
  {
   "cell_type": "code",
   "execution_count": 1,
   "metadata": {},
   "outputs": [],
   "source": [
    "import matplotlib.pyplot as plt"
   ]
  },
  {
   "cell_type": "code",
   "execution_count": 27,
   "metadata": {},
   "outputs": [
    {
     "data": {
      "image/png": "[encoded data removed]",
      "text/plain": [
       "<Figure size 432x288 with 1 Axes>"
      ]
     },
     "metadata": {},
     "output_type": "display_data"
    },
    {
     "data": {
      "image/png": "[encoded data removed]",
      "text/plain": [
       "<Figure size 432x288 with 1 Axes>"
      ]
     },
     "metadata": {},
     "output_type": "display_data"
    },
    {
     "data": {
      "image/png": "[encoded data removed]",
      "text/plain": [
       "<Figure size 432x288 with 1 Axes>"
      ]
     },
     "metadata": {},
     "output_type": "display_data"
    }
   ],
   "source": [
    "plt.rcParams['font.size'] = 14\n",
    "# plt.figure(figsize=(10,10))\n",
    "plt.title('Район в Новосибирске', fontsize = 16)\n",
    "plt.pie([50,50], labels=['зеленые насаждения 50%', 'незеленые 50%'],colors=['green', 'lightgrey'])\n",
    "\n",
    "plt.show()\n",
    "plt.title('Район в Уфе', fontsize = 14)\n",
    "plt.pie([75,25], labels=['зеленые насаждения 75%', 'незеленые 25%'],colors=['green', 'lightgrey'])\n",
    "plt.gcf().autofmt_xdate()\n",
    "plt.show()\n",
    "plt.title('Район в Иркутске', fontsize = 14)\n",
    "plt.pie([25,75], labels=['зеленые насаждения 25%', 'незеленые 75%'],colors=['green', 'lightgrey'])\n",
    "plt.gcf().autofmt_xdate()\n",
    "plt.show()"
   ]
  },
  {
   "cell_type": "code",
   "execution_count": 28,
   "metadata": {},
   "outputs": [
    {
     "data": {
      "image/png": "[encoded data removed]",
      "text/plain": [
       "<Figure size 432x288 with 1 Axes>"
      ]
     },
     "metadata": {},
     "output_type": "display_data"
    }
   ],
   "source": [
    "plt.title('Дистрикт1', fontsize = 14)\n",
    "plt.pie([28.18,100-28.18], labels=['зеленые насаждения 25%', 'незеленые 75%'],colors=['green', 'lightgrey'])\n",
    "plt.gcf().autofmt_xdate()\n",
    "plt.show()"
   ]
  }
 ],
 "metadata": {
  "kernelspec": {
   "display_name": "Python 3",
   "language": "python",
   "name": "python3"
  },
  "language_info": {
   "codemirror_mode": {
    "name": "ipython",
    "version": 3
   },
   "file_extension": ".py",
   "mimetype": "text/x-python",
   "name": "python",
   "nbconvert_exporter": "python",
   "pygments_lexer": "ipython3",
   "version": "3.8.3"
  }
 },
 "nbformat": 4,
 "nbformat_minor": 4
}
